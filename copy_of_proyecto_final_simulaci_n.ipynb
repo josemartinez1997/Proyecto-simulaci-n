{
  "nbformat": 4,
  "nbformat_minor": 0,
  "metadata": {
    "colab": {
      "provenance": []
    },
    "kernelspec": {
      "name": "python3",
      "display_name": "Python 3"
    },
    "language_info": {
      "name": "python"
    }
  },
  "cells": [
    {
      "cell_type": "markdown",
      "source": [
        "### Integrantes\n",
        "- José Martinez\n",
        "- Rodrigo Montecinos."
      ],
      "metadata": {
        "id": "aUTKS2FOr7A1"
      }
    },
    {
      "cell_type": "markdown",
      "source": [
        "# En lo que sigue se importarán las librerias necesarias."
      ],
      "metadata": {
        "id": "axi6yO1_sC-7"
      }
    },
    {
      "cell_type": "code",
      "execution_count": null,
      "metadata": {
        "id": "uWmIENV5rsRe"
      },
      "outputs": [],
      "source": [
        "import numpy as np\n",
        "import matplotlib.pyplot as plt\n",
        "import random"
      ]
    },
    {
      "cell_type": "markdown",
      "source": [
        "## Creamos los valores aleatorios para poder rankear los productos."
      ],
      "metadata": {
        "id": "e0FPEBElL7xu"
      }
    },
    {
      "cell_type": "code",
      "source": [
        "### Preferencia para probar el producto a_{i}\n",
        "def appeal(n):\n",
        "  a = np.random.uniform(0,1,n)\n",
        "  a /= np.sum(a)\n",
        "  return a\n",
        "\n",
        "### Generamos q_{i}, la probabilidad condicional de comprar el producto i dado que\n",
        "### el cliente lo probó.\n",
        "\n",
        "def quality(n):\n",
        "  q = np.random.uniform(0,1,n)\n",
        "  q = np.sort(q)[::-1]\n",
        "  q /= np.sum(q)\n",
        "  return q\n",
        "\n",
        "### Generamos el vector de visibilidad\n",
        "def visibility(n):\n",
        "  v = np.random.uniform(0,1,n)\n",
        "  v = np.sort(v)[::-1]\n",
        "  v /= np.sum(v)\n",
        "  return v\n"
      ],
      "metadata": {
        "id": "f8JeE6-_MJeu"
      },
      "execution_count": null,
      "outputs": []
    },
    {
      "cell_type": "markdown",
      "source": [
        "## Supondremos que estamos en el tiempo t, en el que se realiza una acción, es decir, el cliente en el tiempo t puede decidir si comprar unos de los productos o no. Para esto escribiremos el vector d que posee la cantidad de veces que a comprado cada producto i en el tiempo t."
      ],
      "metadata": {
        "id": "xis5ZoBjV_WF"
      }
    },
    {
      "cell_type": "code",
      "source": [
        "### En tiempo inicial 0 definiremos el vector correspondiente a 0 ventas. (dispuesto a cambios)\n",
        "\n",
        "def purchased_products(n): # Son la cantidad de compras y la cantidad de productos.\n",
        "  d = np.zeros(n ,dtype = int)\n",
        "  return d"
      ],
      "metadata": {
        "id": "13P9mwJwZIta"
      },
      "execution_count": null,
      "outputs": []
    },
    {
      "cell_type": "markdown",
      "source": [
        "## Se crea un vector que le da un ranking aleatorio al producto i, por ejemplo si la posición j tiene un valor k, entonces el producto j+1 está rankeado en la posición k."
      ],
      "metadata": {
        "id": "byTU1uUy_PGD"
      }
    },
    {
      "cell_type": "code",
      "source": [
        "def ranking_aleatorio(n):\n",
        "    # Creamos una secuencia de números del 1 al n.\n",
        "    numeros = list(range(n))\n",
        "    # Mezcla la secuencia de forma aleatoria.\n",
        "    random.shuffle(numeros)\n",
        "    sigma = np.array(numeros)\n",
        "\n",
        "    ## Creamos el vector final que posee dos coordenadas.\n",
        "    #sigma = np.array([[i+1,numeros[i]] for i in range(n)])\n",
        "    return sigma\n",
        "\n",
        "rank = ranking_aleatorio(10)\n",
        "print(rank)\n"
      ],
      "metadata": {
        "id": "ARSulBSodE_L",
        "colab": {
          "base_uri": "https://localhost:8080/"
        },
        "outputId": "e6d80bf2-6d9d-4ac5-a79a-de231b287c79"
      },
      "execution_count": null,
      "outputs": [
        {
          "output_type": "stream",
          "name": "stdout",
          "text": [
            "[5 0 9 8 7 3 2 1 4 6]\n"
          ]
        }
      ]
    },
    {
      "cell_type": "markdown",
      "source": [
        "## Se crea la función de probabilidad de que el cliente en el tiempo t va a probar el producto i dado un ranking sigma."
      ],
      "metadata": {
        "id": "KM7Rs32ZAAYb"
      }
    },
    {
      "cell_type": "code",
      "source": [
        "n = 4\n",
        "P=np.array([[0.6, 0.05, 0.05, 0.25],[0.15, 0.8, 0, 0.1],[0.25, 0.15, 0.95, 0.4], [0, 0, 0, 0.25]])\n",
        "mu=np.array([0.15, 0.35, 0.2, 0.3])\n",
        "sigma = ranking_aleatorio(n)\n",
        "dd = 10*mu\n",
        "vis = visibility(n)\n",
        "a = appeal(n)\n",
        "def probabilidad_probar_i(i,sigma,d):\n",
        "  numerador = vis[sigma[i]]*(a[i] + dd[i])\n",
        "  den = sum([vis[sigma[j]]*(a[j] + dd[j]) for j in range(n)])\n",
        "  return numerador/den\n",
        "\n",
        "#p_10 = probabilidad_probar_i(9,sigma,dd)\n",
        "#print(p_10)\n",
        "#p_20 = probabilidad_probar_i(9,sigma,dd)\n",
        "#print(p_20)\n",
        "### Vamos a verificar que la suma de las probabilidades den 1.\n",
        "#indices = 0\n",
        "#suma = 0\n",
        "#while indices < n:\n",
        "#  suma += probabilidad_probar_i(indices,sigma,dd)\n",
        "#  indices += 1\n",
        "\n",
        "#print(suma)\n"
      ],
      "metadata": {
        "id": "yIDTflKx-vNg"
      },
      "execution_count": null,
      "outputs": []
    },
    {
      "cell_type": "markdown",
      "source": [
        "## Procedemos a definir la función de energía para poder aplicar Simulated annealing."
      ],
      "metadata": {
        "id": "eDt7zlr1Ndkt"
      }
    },
    {
      "cell_type": "code",
      "source": [
        "def energy_function(P_i,q):\n",
        "  n = len(q)\n",
        "  E = sum([P_i[i]*q[i] for i in range(n)])\n",
        "  return E\n",
        "\n",
        "q = quality(n)\n",
        "P_i = np.array([probabilidad_probar_i(i,sigma,dd) for i in range(n)])\n",
        "print(energy_function(P_i,q))"
      ],
      "metadata": {
        "colab": {
          "base_uri": "https://localhost:8080/"
        },
        "id": "VYEih-JQIK71",
        "outputId": "ae626744-2019-479b-e1f8-630940afea1f"
      },
      "execution_count": null,
      "outputs": [
        {
          "output_type": "stream",
          "name": "stdout",
          "text": [
            "0.29702398739898783\n"
          ]
        }
      ]
    },
    {
      "cell_type": "markdown",
      "source": [
        "El grafo que se construye para utilizar simulated annealing es el siguiente:\n",
        "\n",
        "\n",
        "*   El conjunto de vertices corresponde a las permutaciones de largo n, $S_n$.\n",
        "*   Dos elementos de $S_n$ están unidos por una arista si difieren en solo dos elementos (ambos elementos están intercambiados).\n",
        "\n"
      ],
      "metadata": {
        "id": "gM4i81YTuvZB"
      }
    },
    {
      "cell_type": "markdown",
      "source": [
        "## La siguiente función entrega una permutación adyacente a $rank$ elegida de manera uniforme."
      ],
      "metadata": {
        "id": "gJkwiy16uLcW"
      }
    },
    {
      "cell_type": "code",
      "source": [
        "def new_ranking(rank):\n",
        "    n=len(rank);\n",
        "    i=np.random.randint(n);\n",
        "    j=np.random.randint(n);\n",
        "    if i==j:\n",
        "        j=np.random.randint(n);\n",
        "    new_rank=rank.copy();\n",
        "    new_rank[i]=rank[j];\n",
        "    new_rank[j]=rank[i];\n",
        "    return new_rank\n"
      ],
      "metadata": {
        "id": "nY20alKLOvK6"
      },
      "execution_count": null,
      "outputs": []
    },
    {
      "cell_type": "markdown",
      "source": [
        "## Aplicación de simulated annealing"
      ],
      "metadata": {
        "id": "yJYRjH0Dvrpv"
      }
    },
    {
      "cell_type": "code",
      "source": [
        "q=quality(n)\n",
        "def SA(beta,nf):\n",
        "  X=ranking_aleatorio(n)\n",
        "  U=np.random.uniform(size=nf)\n",
        "  for j in range(1,nf):\n",
        "    Y=new_ranking(X)\n",
        "    energy_X=energy_function(X,q)\n",
        "    energy_Y=energy_function(Y,q)\n",
        "    if U[j]<=min(np.exp(beta*(energy_X-energy_Y)),1):\n",
        "      X=Y\n",
        "    return X\n",
        "\n"
      ],
      "metadata": {
        "id": "r3yQljJevrIi"
      },
      "execution_count": null,
      "outputs": []
    },
    {
      "cell_type": "code",
      "source": [
        "ejemplo=SA(0.5,1000000)\n",
        "e1=ranking_aleatorio(n)\n",
        "print(ejemplo)\n",
        "print(e1)\n",
        "print(energy_function(ejemplo,q))\n",
        "print(energy_function(e1,q))"
      ],
      "metadata": {
        "id": "t1oU3z-p10TR",
        "outputId": "5dd8e4e3-268e-4430-c871-69ca29870a69",
        "colab": {
          "base_uri": "https://localhost:8080/"
        }
      },
      "execution_count": null,
      "outputs": [
        {
          "output_type": "stream",
          "name": "stdout",
          "text": [
            "[0 3 1 2]\n",
            "[0 3 1 2]\n",
            "1.4677363180292364\n",
            "1.4677363180292364\n"
          ]
        }
      ]
    }
  ]
}