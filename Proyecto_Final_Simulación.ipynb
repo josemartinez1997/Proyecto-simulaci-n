{
  "nbformat": 4,
  "nbformat_minor": 0,
  "metadata": {
    "colab": {
      "provenance": []
    },
    "kernelspec": {
      "name": "python3",
      "display_name": "Python 3"
    },
    "language_info": {
      "name": "python"
    }
  },
  "cells": [
    {
      "cell_type": "markdown",
      "source": [
        "### Integrantes\n",
        "- José Martinez\n",
        "- Rodrigo Montecinos."
      ],
      "metadata": {
        "id": "aUTKS2FOr7A1"
      }
    },
    {
      "cell_type": "markdown",
      "source": [
        "# En lo que sigue se importarán las librerias necesarias."
      ],
      "metadata": {
        "id": "axi6yO1_sC-7"
      }
    },
    {
      "cell_type": "code",
      "execution_count": null,
      "metadata": {
        "id": "uWmIENV5rsRe"
      },
      "outputs": [],
      "source": [
        "import numpy as np\n",
        "import matplotlib.pyplot as plt\n",
        "import random"
      ]
    },
    {
      "cell_type": "markdown",
      "source": [
        "## Creamos los valores aleatorios para poder rankear los productos."
      ],
      "metadata": {
        "id": "e0FPEBElL7xu"
      }
    },
    {
      "cell_type": "code",
      "source": [
        "### Preferencia para probar el producto a_{i}\n",
        "def appeal(n):\n",
        "  a = np.random.uniform(0,1,n)\n",
        "  a /= np.sum(a)\n",
        "  return a\n",
        "\n",
        "### Generamos q_{i}, la probabilidad condicional de comprar el producto i dado que\n",
        "### el cliente lo probó.\n",
        "\n",
        "def quality(n):\n",
        "  q = np.random.uniform(0,1,n)\n",
        "  q = np.sort(q)[::-1]\n",
        "  q /= np.sum(q)\n",
        "  return q\n",
        "\n",
        "### Generamos el vector de visibilidad\n",
        "def visibility(n):\n",
        "  v = np.random.uniform(0,1,n)\n",
        "  v = np.sort(v)[::-1]\n",
        "  v /= np.sum(v)\n",
        "  return v\n"
      ],
      "metadata": {
        "id": "f8JeE6-_MJeu"
      },
      "execution_count": null,
      "outputs": []
    },
    {
      "cell_type": "markdown",
      "source": [
        "## Supondremos que estamos en el tiempo t, en el que se realiza una acción, es decir, el cliente en el tiempo t puede decidir si comprar unos de los productos o no. Para esto escribiremos el vector d que posee la cantidad de veces que a comprado cada producto i en el tiempo t."
      ],
      "metadata": {
        "id": "xis5ZoBjV_WF"
      }
    },
    {
      "cell_type": "code",
      "source": [
        "### En tiempo inicial 0 definiremos el vector correspondiente a 0 ventas. (dispuesto a cambios)\n",
        "\n",
        "def purchased_products(n): # Son la cantidad de compras y la cantidad de productos.\n",
        "  d = np.zeros(n ,dtype = int)\n",
        "  return d"
      ],
      "metadata": {
        "id": "13P9mwJwZIta"
      },
      "execution_count": null,
      "outputs": []
    },
    {
      "cell_type": "markdown",
      "source": [
        "## Se crea un vector que le da un ranking aleatorio al producto i, por ejemplo si la posición j tiene un valor k, entonces el producto j+1 está rankeado en la posición k."
      ],
      "metadata": {
        "id": "byTU1uUy_PGD"
      }
    },
    {
      "cell_type": "code",
      "source": [
        "def ranking_aleatorio(n):\n",
        "    # Creamos una secuencia de números del 1 al n.\n",
        "    numeros = list(range(n))\n",
        "    # Mezcla la secuencia de forma aleatoria.\n",
        "    random.shuffle(numeros)\n",
        "    sigma = np.array(numeros)\n",
        "\n",
        "    ## Creamos el vector final que posee dos coordenadas.\n",
        "    #sigma = np.array([[i+1,numeros[i]] for i in range(n)])\n",
        "    return sigma\n",
        "\n",
        "rank = ranking_aleatorio(10)\n",
        "print(rank)\n"
      ],
      "metadata": {
        "id": "ARSulBSodE_L",
        "colab": {
          "base_uri": "https://localhost:8080/"
        },
        "outputId": "8ba7e608-e9c9-4bce-fa28-f94249940091"
      },
      "execution_count": null,
      "outputs": [
        {
          "output_type": "stream",
          "name": "stdout",
          "text": [
            "[7 2 3 4 8 1 0 6 5 9]\n"
          ]
        }
      ]
    },
    {
      "cell_type": "markdown",
      "source": [
        "## Se crea la función de probabilidad de que el cliente en el tiempo t va a probar el producto i dado un ranking sigma."
      ],
      "metadata": {
        "id": "KM7Rs32ZAAYb"
      }
    },
    {
      "cell_type": "code",
      "source": [
        "n = 100\n",
        "sigma = ranking_aleatorio(n)\n",
        "dd = purchased_products(n)\n",
        "vis = visibility(n)\n",
        "a = appeal(n)\n",
        "def probabilidad_probar_i(i,sigma,d):\n",
        "  numerador = vis[sigma[i]]*(a[i] + dd[i])\n",
        "  den = sum([vis[sigma[j]]*(a[j] + dd[j]) for j in range(n)])\n",
        "  return numerador/den\n",
        "\n",
        "p_10 = probabilidad_probar_i(10,sigma,d)\n",
        "print(p_10)\n",
        "p_20 = probabilidad_probar_i(20,sigma,d)\n",
        "print(p_20)\n",
        "### Vamos a verificar que la suma de las probabilidades den 1.\n",
        "indices = 0\n",
        "suma = 0\n",
        "while indices < 100:\n",
        "  suma += probabilidad_probar_i(indices,sigma,d)\n",
        "  indices += 1\n",
        "\n",
        "print(suma)\n"
      ],
      "metadata": {
        "colab": {
          "base_uri": "https://localhost:8080/"
        },
        "id": "yIDTflKx-vNg",
        "outputId": "0964f3c8-9eaf-431f-a19f-783c894e948a"
      },
      "execution_count": null,
      "outputs": [
        {
          "output_type": "stream",
          "name": "stdout",
          "text": [
            "0.03024045611873431\n",
            "0.0011288096402270022\n",
            "1.0\n"
          ]
        }
      ]
    },
    {
      "cell_type": "markdown",
      "source": [
        "## Procedemos a definir la función de energía para poder aplicar Simulated annealing."
      ],
      "metadata": {
        "id": "eDt7zlr1Ndkt"
      }
    },
    {
      "cell_type": "code",
      "source": [
        "def energy_function(P_i,q):\n",
        "  n = len(q)\n",
        "  E = sum([P_i[i]*q[i] for i in range(n)])\n",
        "  return E\n",
        "\n",
        "q = quality(n)\n",
        "P_i = np.array([probabilidad_probar_i(i,sigma,d) for i in range(n)])\n",
        "print(energy_function(P_i,q))"
      ],
      "metadata": {
        "colab": {
          "base_uri": "https://localhost:8080/"
        },
        "id": "VYEih-JQIK71",
        "outputId": "0dc0216f-f7bd-4c77-a296-f1ede260e2c3"
      },
      "execution_count": null,
      "outputs": [
        {
          "output_type": "stream",
          "name": "stdout",
          "text": [
            "0.010207164975483005\n"
          ]
        }
      ]
    },
    {
      "cell_type": "code",
      "source": [],
      "metadata": {
        "id": "nY20alKLOvK6"
      },
      "execution_count": null,
      "outputs": []
    }
  ]
}