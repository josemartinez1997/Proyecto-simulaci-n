{
 "cells": [
  {
   "cell_type": "markdown",
   "metadata": {
    "id": "aUTKS2FOr7A1"
   },
   "source": [
    "### Integrantes\n",
    "- José Martinez\n",
    "- Rodrigo Montecinos."
   ]
  },
  {
   "cell_type": "markdown",
   "metadata": {
    "id": "axi6yO1_sC-7"
   },
   "source": [
    "# En lo que sigue se importarán las librerias necesarias."
   ]
  },
  {
   "cell_type": "code",
   "execution_count": null,
   "metadata": {
    "id": "uWmIENV5rsRe"
   },
   "outputs": [],
   "source": [
    "import numpy as np\n",
    "import matplotlib.pyplot as plt\n",
    "import random"
   ]
  },
  {
   "cell_type": "markdown",
   "metadata": {
    "id": "e0FPEBElL7xu"
   },
   "source": [
    "## Creamos los valores aleatorios para poder rankear los productos."
   ]
  },
  {
   "cell_type": "code",
   "execution_count": null,
   "metadata": {
    "id": "f8JeE6-_MJeu"
   },
   "outputs": [],
   "source": [
    "### Preferencia para probar el producto a_{i}\n",
    "def appeal(n):\n",
    "  a = np.random.uniform(0,1,n)\n",
    "  a /= np.sum(a)\n",
    "  return a\n",
    "\n",
    "### Generamos q_{i}, la probabilidad condicional de comprar el producto i dado que\n",
    "### el cliente lo probó.\n",
    "\n",
    "def quality(n):\n",
    "  q = np.random.uniform(0,1,n)\n",
    "  q = np.sort(q)[::-1]\n",
    "  q /= np.sum(q)\n",
    "  return q\n",
    "\n",
    "### Generamos el vector de visibilidad\n",
    "def visibility(n):\n",
    "  v = np.random.uniform(0,1,n)\n",
    "  v = np.sort(v)[::-1]\n",
    "  v /= np.sum(v)\n",
    "  return v\n"
   ]
  },
  {
   "cell_type": "markdown",
   "metadata": {
    "id": "xis5ZoBjV_WF"
   },
   "source": [
    "## Supondremos que estamos en el tiempo t, en el que se realiza una acción, es decir, el cliente en el tiempo t puede decidir si comprar unos de los productos o no. Para esto escribiremos el vector d que posee la cantidad de veces que a comprado cada producto i en el tiempo t."
   ]
  },
  {
   "cell_type": "code",
   "execution_count": null,
   "metadata": {
    "id": "13P9mwJwZIta"
   },
   "outputs": [],
   "source": [
    "### En tiempo inicial 0 definiremos el vector correspondiente a 0 ventas. (dispuesto a cambios)\n",
    "\n",
    "def purchased_products(n): # Son la cantidad de compras y la cantidad de productos.\n",
    "  d = np.zeros(n ,dtype = int)\n",
    "  return d"
   ]
  },
  {
   "cell_type": "markdown",
   "metadata": {
    "id": "byTU1uUy_PGD"
   },
   "source": [
    "## Se crea un vector que le da un ranking aleatorio al producto i, por ejemplo si la posición j tiene un valor k, entonces el producto j+1 está rankeado en la posición k."
   ]
  },
  {
   "cell_type": "code",
   "execution_count": null,
   "metadata": {
    "colab": {
     "base_uri": "https://localhost:8080/"
    },
    "id": "ARSulBSodE_L",
    "outputId": "8ba7e608-e9c9-4bce-fa28-f94249940091"
   },
   "outputs": [
    {
     "name": "stdout",
     "output_type": "stream",
     "text": [
      "[7 2 3 4 8 1 0 6 5 9]\n"
     ]
    }
   ],
   "source": [
    "def ranking_aleatorio(n):\n",
    "    # Creamos una secuencia de números del 1 al n.\n",
    "    numeros = list(range(n))\n",
    "    # Mezcla la secuencia de forma aleatoria.\n",
    "    random.shuffle(numeros)\n",
    "    sigma = np.array(numeros)\n",
    "\n",
    "    ## Creamos el vector final que posee dos coordenadas.\n",
    "    #sigma = np.array([[i+1,numeros[i]] for i in range(n)])\n",
    "    return sigma\n",
    "\n",
    "rank = ranking_aleatorio(10)\n",
    "print(rank)\n"
   ]
  },
  {
   "cell_type": "markdown",
   "metadata": {
    "id": "KM7Rs32ZAAYb"
   },
   "source": [
    "## Se crea la función de probabilidad de que el cliente en el tiempo t va a probar el producto i dado un ranking sigma."
   ]
  },
  {
   "cell_type": "code",
   "execution_count": null,
   "metadata": {
    "colab": {
     "base_uri": "https://localhost:8080/"
    },
    "id": "yIDTflKx-vNg",
    "outputId": "0964f3c8-9eaf-431f-a19f-783c894e948a"
   },
   "outputs": [
    {
     "name": "stdout",
     "output_type": "stream",
     "text": [
      "0.03024045611873431\n",
      "0.0011288096402270022\n",
      "1.0\n"
     ]
    }
   ],
   "source": [
    "n = 100\n",
    "sigma = ranking_aleatorio(n)\n",
    "dd = purchased_products(n)\n",
    "vis = visibility(n)\n",
    "a = appeal(n)\n",
    "def probabilidad_probar_i(i,sigma,d):\n",
    "  numerador = vis[sigma[i]]*(a[i] + dd[i])\n",
    "  den = sum([vis[sigma[j]]*(a[j] + dd[j]) for j in range(n)])\n",
    "  return numerador/den\n",
    "\n",
    "p_10 = probabilidad_probar_i(10,sigma,d)\n",
    "print(p_10)\n",
    "p_20 = probabilidad_probar_i(20,sigma,d)\n",
    "print(p_20)\n",
    "### Vamos a verificar que la suma de las probabilidades den 1.\n",
    "indices = 0\n",
    "suma = 0\n",
    "while indices < 100:\n",
    "  suma += probabilidad_probar_i(indices,sigma,d)\n",
    "  indices += 1\n",
    "\n",
    "print(suma)\n"
   ]
  },
  {
   "cell_type": "markdown",
   "metadata": {
    "id": "eDt7zlr1Ndkt"
   },
   "source": [
    "## Procedemos a definir la función de energía para poder aplicar Simulated annealing."
   ]
  },
  {
   "cell_type": "code",
   "execution_count": null,
   "metadata": {
    "colab": {
     "base_uri": "https://localhost:8080/"
    },
    "id": "VYEih-JQIK71",
    "outputId": "0dc0216f-f7bd-4c77-a296-f1ede260e2c3"
   },
   "outputs": [
    {
     "name": "stdout",
     "output_type": "stream",
     "text": [
      "0.010207164975483005\n"
     ]
    }
   ],
   "source": [
    "def energy_function(P_i,q):\n",
    "  n = len(q)\n",
    "  E = sum([P_i[i]*q[i] for i in range(n)])\n",
    "  return E\n",
    "\n",
    "q = quality(n)\n",
    "P_i = np.array([probabilidad_probar_i(i,sigma,d) for i in range(n)])\n",
    "print(energy_function(P_i,q))"
   ]
  },
  {
   "cell_type": "code",
   "execution_count": null,
   "metadata": {
    "id": "nY20alKLOvK6"
   },
   "outputs": [],
   "source": [
    "def new_ranking(rank):\n",
    "    n=len(rank);\n",
    "    i=np.uniform.randint(n);\n",
    "    j=np.uniform.randint(n);\n",
    "    if i==j:\n",
    "        j=np.uniform.randint(n);\n",
    "    new_rank=rank.copy();\n",
    "    "
   ]
  }
 ],
 "metadata": {
  "colab": {
   "provenance": []
  },
  "kernelspec": {
   "display_name": "Python 3 (ipykernel)",
   "language": "python",
   "name": "python3"
  },
  "language_info": {
   "codemirror_mode": {
    "name": "ipython",
    "version": 3
   },
   "file_extension": ".py",
   "mimetype": "text/x-python",
   "name": "python",
   "nbconvert_exporter": "python",
   "pygments_lexer": "ipython3",
   "version": "3.11.4"
  }
 },
 "nbformat": 4,
 "nbformat_minor": 4
}
